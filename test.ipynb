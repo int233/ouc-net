{
 "cells": [
  {
   "cell_type": "code",
   "execution_count": 52,
   "metadata": {},
   "outputs": [
    {
     "name": "stdout",
     "output_type": "stream",
     "text": [
      "连接到互联网的接口是: en1\n"
     ]
    }
   ],
   "source": [
    "import psutil\n",
    "import socket\n",
    "\n",
    "def is_connected_to_internet(interface_ip=\"8.8.8.8\", port=53, timeout=3):\n",
    "    \"\"\"\n",
    "    检查某个网络接口是否能连接到互联网\n",
    "    \"\"\"\n",
    "    try:\n",
    "        socket.create_connection((interface_ip, port), timeout=timeout)\n",
    "        return True\n",
    "    except (socket.timeout, socket.error):\n",
    "        return False\n",
    "\n",
    "def get_internet_connected_interface():\n",
    "    \"\"\"\n",
    "    获取连接互联网的网络接口\n",
    "    \"\"\"\n",
    "    # 获取所有网络接口信息\n",
    "    interfaces = psutil.net_if_addrs()\n",
    "\n",
    "    # 遍历接口信息\n",
    "    for interface, addrs in interfaces.items():\n",
    "        # 排除回环接口 lo0\n",
    "        if interface == 'lo0':\n",
    "            continue\n",
    "        for addr in addrs:\n",
    "            # 如果是IPv4地址，检查是否能连接互联网\n",
    "            if addr.family == socket.AF_INET:\n",
    "                if is_connected_to_internet():\n",
    "                    return interface\n",
    "\n",
    "    return None\n",
    "\n",
    "# 获取连接到互联网的接口\n",
    "connected_interface = get_internet_connected_interface()\n",
    "\n",
    "if connected_interface:\n",
    "    print(f\"连接到互联网的接口是: {connected_interface}\")\n",
    "else:\n",
    "    print(\"没有接口连接到互联网\")\n"
   ]
  },
  {
   "cell_type": "code",
   "execution_count": 127,
   "metadata": {},
   "outputs": [
    {
     "data": {
      "text/plain": [
       "False"
      ]
     },
     "execution_count": 127,
     "metadata": {},
     "output_type": "execute_result"
    }
   ],
   "source": [
    "\n",
    "import subprocess\n",
    "import platform\n",
    "param = \"-n\" if platform.system().lower() == \"windows\" else \"-c\"\n",
    "command = [\"ping\", param, \"1\", \"www.baidu.com\"]  # 发送一个包\n",
    "# logger.info(f\"Start ping Baidu\")\n",
    "baidu_process  = subprocess.Popen(command, stdout=subprocess.PIPE, stderr=subprocess.PIPE, text=True)\n",
    "baidu_result = baidu_process.wait(timeout=5)\n",
    "\n",
    "baidu_result == '0'"
   ]
  },
  {
   "cell_type": "code",
   "execution_count": 102,
   "metadata": {},
   "outputs": [
    {
     "data": {
      "text/plain": [
       "{'Network': {'Ethernet': {'Type': 'Ethernet',\n",
       "   'Hardware': 'Ethernet',\n",
       "   'BSD Device Name': 'en0',\n",
       "   'IPv4': {'Configuration Method': 'DHCP'},\n",
       "   'IPv6': {'Configuration Method': 'Automatic'},\n",
       "   'Ethernet': {'MAC Address': '18:31:bf:0b:2b:e6',\n",
       "    'Media Options': None,\n",
       "    'Media Subtype': 'Auto Select'},\n",
       "   'Proxies': {'Exceptions List': None,\n",
       "    'HTTP Proxy Enabled': False,\n",
       "    'HTTP Proxy Server': None,\n",
       "    'HTTPS Proxy Enabled': False,\n",
       "    'HTTPS Proxy Server': None,\n",
       "    'SOCKS Proxy Enabled': False,\n",
       "    'SOCKS Proxy Server': None},\n",
       "   'Service Order': 0},\n",
       "  'Wi-Fi': {'Type': 'AirPort',\n",
       "   'Hardware': 'AirPort',\n",
       "   'BSD Device Name': 'en1',\n",
       "   'IPv4 Addresses': '10.191.223.235',\n",
       "   'IPv4': {'Additional Routes': {'Destination Address': '169.254.0.0',\n",
       "     'Subnet Mask': '255.255.0.0'},\n",
       "    'Addresses': '10.191.223.235',\n",
       "    'ARP Resolved Hardware Address': '00:00:5e:00:01:01',\n",
       "    'ARP Resolved IP Address': '10.191.220.1',\n",
       "    'Configuration Method': 'DHCP',\n",
       "    'Confirmed Interface Name': 'en1',\n",
       "    'Interface Name': 'en1',\n",
       "    'Network Signature': 'IPv4.Router=10.191.220.1;IPv4.RouterHardwareAddress=00:00:5e:00:01:01',\n",
       "    'Router': '10.191.220.1',\n",
       "    'Subnet Masks': '255.255.252.0'},\n",
       "   'IPv6': {'Addresses': '240c:ca02:2191:592:1016:426c:69b7:9490, 240c:ca02:2191:592:a1bd:d529:8c0:1612',\n",
       "    'Configuration Method': 'Automatic',\n",
       "    'Confirmed Interface Name': 'en1',\n",
       "    'Interface Name': 'en1',\n",
       "    'Network Signature': 'IPv6.Prefix=240c:ca02:2191:592::/64;IPv6.RouterHardwareAddress=00:00:5e:00:01:01',\n",
       "    'Prefix Length': '64, 64',\n",
       "    'Router': 'fe80::200:5eff:fe00:101'},\n",
       "   'DNS': {'Server Addresses': '211.64.142.5, 211.64.142.4'},\n",
       "   'DHCP Server Responses': {'Domain Name Servers': '211.64.142.5,211.64.142.4',\n",
       "    'Lease Duration (seconds)': 0,\n",
       "    'DHCP Message Type': 5,\n",
       "    'Routers': '10.191.220.1',\n",
       "    'Server Identifier': '10.191.220.1',\n",
       "    'Subnet Mask': '255.255.252.0'},\n",
       "   'Ethernet': {'MAC Address': 'a4:5e:60:cc:72:cd',\n",
       "    'Media Options': None,\n",
       "    'Media Subtype': 'Auto Select'},\n",
       "   'Proxies': {'Exceptions List': '127.0.0.1, 192.168.0.0/16, 10.0.0.0/8, 172.16.0.0/12, localhost, *.local, *.crashlytics.com, <local>',\n",
       "    'HTTP Proxy Enabled': True,\n",
       "    'HTTP Proxy Port': 7897,\n",
       "    'HTTP Proxy Server': '127.0.0.1',\n",
       "    'HTTPS Proxy Enabled': True,\n",
       "    'HTTPS Proxy Port': 7897,\n",
       "    'HTTPS Proxy Server': '127.0.0.1',\n",
       "    'Auto Configure Enabled': False,\n",
       "    'Auto Configure URL': 'http://127.0.0.1:33331/commands/pac',\n",
       "    'SOCKS Proxy Enabled': True,\n",
       "    'SOCKS Proxy Port': 7897,\n",
       "    'SOCKS Proxy Server': '127.0.0.1'},\n",
       "   'Service Order': 1}}}"
      ]
     },
     "execution_count": 102,
     "metadata": {},
     "output_type": "execute_result"
    }
   ],
   "source": [
    "result = subprocess.run(['system_profiler', 'SPNetworkDataType'], capture_output=True, text=True)\n",
    "result = yaml.safe_load(result.stdout)\n",
    "result"
   ]
  }
 ],
 "metadata": {
  "kernelspec": {
   "display_name": "ouc-net",
   "language": "python",
   "name": "python3"
  },
  "language_info": {
   "codemirror_mode": {
    "name": "ipython",
    "version": 3
   },
   "file_extension": ".py",
   "mimetype": "text/x-python",
   "name": "python",
   "nbconvert_exporter": "python",
   "pygments_lexer": "ipython3",
   "version": "3.11.11"
  }
 },
 "nbformat": 4,
 "nbformat_minor": 2
}
